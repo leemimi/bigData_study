{
  "nbformat": 4,
  "nbformat_minor": 0,
  "metadata": {
    "colab": {
      "provenance": [],
      "include_colab_link": true
    },
    "kernelspec": {
      "name": "python3",
      "display_name": "Python 3"
    },
    "language_info": {
      "name": "python"
    }
  },
  "cells": [
    {
      "cell_type": "markdown",
      "metadata": {
        "id": "view-in-github",
        "colab_type": "text"
      },
      "source": [
        "<a href=\"https://colab.research.google.com/github/leemimi/bigData_study/blob/main/type1_2nd.ipynb\" target=\"_parent\"><img src=\"https://colab.research.google.com/assets/colab-badge.svg\" alt=\"Open In Colab\"/></a>"
      ]
    },
    {
      "cell_type": "markdown",
      "source": [
        "# 작업형1\n",
        "- 빅데이터 분석기사 2회 실기 (참고: 1회 실기는 취소됨)\n",
        "- 데이터: members.csv"
      ],
      "metadata": {
        "id": "47HsBjEbBBPA"
      }
    },
    {
      "cell_type": "code",
      "execution_count": null,
      "metadata": {
        "colab": {
          "base_uri": "https://localhost:8080/",
          "height": 448
        },
        "id": "kBP6rHrNA1lc",
        "outputId": "3ed415fc-efe4-4393-c93b-1914a85f99f4"
      },
      "outputs": [
        {
          "output_type": "execute_result",
          "data": {
            "text/html": [
              "<div>\n",
              "<style scoped>\n",
              "    .dataframe tbody tr th:only-of-type {\n",
              "        vertical-align: middle;\n",
              "    }\n",
              "\n",
              "    .dataframe tbody tr th {\n",
              "        vertical-align: top;\n",
              "    }\n",
              "\n",
              "    .dataframe thead th {\n",
              "        text-align: right;\n",
              "    }\n",
              "</style>\n",
              "<table border=\"1\" class=\"dataframe\">\n",
              "  <thead>\n",
              "    <tr style=\"text-align: right;\">\n",
              "      <th></th>\n",
              "      <th>id</th>\n",
              "      <th>age</th>\n",
              "      <th>city</th>\n",
              "      <th>f1</th>\n",
              "      <th>f2</th>\n",
              "      <th>f3</th>\n",
              "      <th>f4</th>\n",
              "      <th>f5</th>\n",
              "      <th>subscribed</th>\n",
              "      <th>views</th>\n",
              "    </tr>\n",
              "  </thead>\n",
              "  <tbody>\n",
              "    <tr>\n",
              "      <th>0</th>\n",
              "      <td>id01</td>\n",
              "      <td>2.0</td>\n",
              "      <td>서울</td>\n",
              "      <td>NaN</td>\n",
              "      <td>0</td>\n",
              "      <td>gold</td>\n",
              "      <td>ENFJ</td>\n",
              "      <td>91.297791</td>\n",
              "      <td>2021-07-16</td>\n",
              "      <td>6820.0</td>\n",
              "    </tr>\n",
              "    <tr>\n",
              "      <th>1</th>\n",
              "      <td>id02</td>\n",
              "      <td>9.0</td>\n",
              "      <td>서울</td>\n",
              "      <td>70.0</td>\n",
              "      <td>1</td>\n",
              "      <td>NaN</td>\n",
              "      <td>ENFJ</td>\n",
              "      <td>60.339826</td>\n",
              "      <td>2021-05-12</td>\n",
              "      <td>2534.0</td>\n",
              "    </tr>\n",
              "    <tr>\n",
              "      <th>2</th>\n",
              "      <td>id03</td>\n",
              "      <td>27.0</td>\n",
              "      <td>서울</td>\n",
              "      <td>61.0</td>\n",
              "      <td>1</td>\n",
              "      <td>gold</td>\n",
              "      <td>ISTJ</td>\n",
              "      <td>17.252986</td>\n",
              "      <td>2021-03-16</td>\n",
              "      <td>7312.0</td>\n",
              "    </tr>\n",
              "    <tr>\n",
              "      <th>3</th>\n",
              "      <td>id04</td>\n",
              "      <td>75.0</td>\n",
              "      <td>서울</td>\n",
              "      <td>NaN</td>\n",
              "      <td>2</td>\n",
              "      <td>NaN</td>\n",
              "      <td>INFP</td>\n",
              "      <td>52.667078</td>\n",
              "      <td>2021-07-21</td>\n",
              "      <td>493.0</td>\n",
              "    </tr>\n",
              "    <tr>\n",
              "      <th>4</th>\n",
              "      <td>id05</td>\n",
              "      <td>24.0</td>\n",
              "      <td>서울</td>\n",
              "      <td>85.0</td>\n",
              "      <td>2</td>\n",
              "      <td>NaN</td>\n",
              "      <td>ISFJ</td>\n",
              "      <td>29.269869</td>\n",
              "      <td>2021-03-07</td>\n",
              "      <td>1338.0</td>\n",
              "    </tr>\n",
              "    <tr>\n",
              "      <th>...</th>\n",
              "      <td>...</td>\n",
              "      <td>...</td>\n",
              "      <td>...</td>\n",
              "      <td>...</td>\n",
              "      <td>...</td>\n",
              "      <td>...</td>\n",
              "      <td>...</td>\n",
              "      <td>...</td>\n",
              "      <td>...</td>\n",
              "      <td>...</td>\n",
              "    </tr>\n",
              "    <tr>\n",
              "      <th>95</th>\n",
              "      <td>id95</td>\n",
              "      <td>77.0</td>\n",
              "      <td>경기</td>\n",
              "      <td>43.0</td>\n",
              "      <td>1</td>\n",
              "      <td>gold</td>\n",
              "      <td>INTJ</td>\n",
              "      <td>91.297791</td>\n",
              "      <td>2021-05-21</td>\n",
              "      <td>8697.0</td>\n",
              "    </tr>\n",
              "    <tr>\n",
              "      <th>96</th>\n",
              "      <td>id96</td>\n",
              "      <td>92.0</td>\n",
              "      <td>경기</td>\n",
              "      <td>53.0</td>\n",
              "      <td>1</td>\n",
              "      <td>silver</td>\n",
              "      <td>ENTJ</td>\n",
              "      <td>52.667078</td>\n",
              "      <td>2021-05-06</td>\n",
              "      <td>4336.0</td>\n",
              "    </tr>\n",
              "    <tr>\n",
              "      <th>97</th>\n",
              "      <td>id97</td>\n",
              "      <td>100.0</td>\n",
              "      <td>경기</td>\n",
              "      <td>NaN</td>\n",
              "      <td>0</td>\n",
              "      <td>gold</td>\n",
              "      <td>INFP</td>\n",
              "      <td>67.886373</td>\n",
              "      <td>2021-03-18</td>\n",
              "      <td>6687.0</td>\n",
              "    </tr>\n",
              "    <tr>\n",
              "      <th>98</th>\n",
              "      <td>id98</td>\n",
              "      <td>39.0</td>\n",
              "      <td>경기</td>\n",
              "      <td>58.0</td>\n",
              "      <td>2</td>\n",
              "      <td>NaN</td>\n",
              "      <td>INFP</td>\n",
              "      <td>98.429899</td>\n",
              "      <td>2021-10-02</td>\n",
              "      <td>865.0</td>\n",
              "    </tr>\n",
              "    <tr>\n",
              "      <th>99</th>\n",
              "      <td>id99</td>\n",
              "      <td>1.0</td>\n",
              "      <td>경기</td>\n",
              "      <td>47.0</td>\n",
              "      <td>0</td>\n",
              "      <td>gold</td>\n",
              "      <td>ESFJ</td>\n",
              "      <td>97.381034</td>\n",
              "      <td>2021-12-02</td>\n",
              "      <td>6090.0</td>\n",
              "    </tr>\n",
              "  </tbody>\n",
              "</table>\n",
              "<p>100 rows × 10 columns</p>\n",
              "</div>"
            ],
            "text/plain": [
              "      id    age city    f1  f2      f3    f4         f5  subscribed   views\n",
              "0   id01    2.0   서울   NaN   0    gold  ENFJ  91.297791  2021-07-16  6820.0\n",
              "1   id02    9.0   서울  70.0   1     NaN  ENFJ  60.339826  2021-05-12  2534.0\n",
              "2   id03   27.0   서울  61.0   1    gold  ISTJ  17.252986  2021-03-16  7312.0\n",
              "3   id04   75.0   서울   NaN   2     NaN  INFP  52.667078  2021-07-21   493.0\n",
              "4   id05   24.0   서울  85.0   2     NaN  ISFJ  29.269869  2021-03-07  1338.0\n",
              "..   ...    ...  ...   ...  ..     ...   ...        ...         ...     ...\n",
              "95  id95   77.0   경기  43.0   1    gold  INTJ  91.297791  2021-05-21  8697.0\n",
              "96  id96   92.0   경기  53.0   1  silver  ENTJ  52.667078  2021-05-06  4336.0\n",
              "97  id97  100.0   경기   NaN   0    gold  INFP  67.886373  2021-03-18  6687.0\n",
              "98  id98   39.0   경기  58.0   2     NaN  INFP  98.429899  2021-10-02   865.0\n",
              "99  id99    1.0   경기  47.0   0    gold  ESFJ  97.381034  2021-12-02  6090.0\n",
              "\n",
              "[100 rows x 10 columns]"
            ]
          },
          "metadata": {},
          "execution_count": 3
        }
      ],
      "source": [
        "import pandas as pd\n",
        "df = pd.read_csv(\"members.csv\")\n",
        "df"
      ]
    },
    {
      "cell_type": "markdown",
      "source": [
        "## 문제1\n",
        "- 주어진 데이터셋(members.csv)의 'views' 컬럼 상위 10개 데이터를 상위 10번째 값으로 대체한 후 'age'컬럼에서 80 이상인 데이터의 'views' 컬럼 평균값 구하기\n"
      ],
      "metadata": {
        "id": "amC4XdUCNDz9"
      }
    },
    {
      "cell_type": "code",
      "source": [
        "# your code"
      ],
      "metadata": {
        "id": "TarS4vwBJv4F"
      },
      "execution_count": null,
      "outputs": []
    },
    {
      "cell_type": "code",
      "source": [],
      "metadata": {
        "id": "8vbS5Gq4Jv6l"
      },
      "execution_count": null,
      "outputs": []
    },
    {
      "cell_type": "markdown",
      "source": [
        "## 문제2\n",
        "- 주어진 데이터셋(members.csv)의 앞에서부터 순서대로 80% 데이터만 활용해 'f1'컬럼 결측치를 중앙값으로 채우기 전 후의 표준편차를 구하고, 두 표준편차 차이 계산하기 \n",
        "(단, 표본표준편차 기준, 두 표준편차 차이는 절대값으로 계산)"
      ],
      "metadata": {
        "id": "ec4PwLu3JkhG"
      }
    },
    {
      "cell_type": "code",
      "source": [
        "# your code"
      ],
      "metadata": {
        "id": "IK03Z3yZJwgJ"
      },
      "execution_count": null,
      "outputs": []
    },
    {
      "cell_type": "code",
      "source": [
        "import pandas as pd\n",
        "df = pd.read_csv(\"members.csv\")"
      ],
      "metadata": {
        "id": "OTkryaqmJwi6"
      },
      "execution_count": 29,
      "outputs": []
    },
    {
      "cell_type": "code",
      "source": [
        "line = int(len(df)*0.8)\n",
        "line"
      ],
      "metadata": {
        "id": "7RJOTZt4MneM",
        "outputId": "56f75677-3104-4c23-b6fe-80dfa1808cd0",
        "colab": {
          "base_uri": "https://localhost:8080/"
        }
      },
      "execution_count": 30,
      "outputs": [
        {
          "output_type": "execute_result",
          "data": {
            "text/plain": [
              "80"
            ]
          },
          "metadata": {},
          "execution_count": 30
        }
      ]
    },
    {
      "cell_type": "code",
      "source": [
        "df = df.iloc[:line]\n",
        "df"
      ],
      "metadata": {
        "id": "c4kw0Cm0Mnbz",
        "outputId": "2f445cf2-9e1a-4d12-8fb1-d55e58ca86c5",
        "colab": {
          "base_uri": "https://localhost:8080/",
          "height": 424
        }
      },
      "execution_count": 31,
      "outputs": [
        {
          "output_type": "execute_result",
          "data": {
            "text/plain": [
              "      id   age city    f1  f2    f3    f4         f5  subscribed   views\n",
              "0   id01   2.0   서울   NaN   0  gold  ENFJ  91.297791  2021-07-16  6820.0\n",
              "1   id02   9.0   서울  70.0   1   NaN  ENFJ  60.339826  2021-05-12  2534.0\n",
              "2   id03  27.0   서울  61.0   1  gold  ISTJ  17.252986  2021-03-16  7312.0\n",
              "3   id04  75.0   서울   NaN   2   NaN  INFP  52.667078  2021-07-21   493.0\n",
              "4   id05  24.0   서울  85.0   2   NaN  ISFJ  29.269869  2021-03-07  1338.0\n",
              "..   ...   ...  ...   ...  ..   ...   ...        ...         ...     ...\n",
              "75  id75  63.0   경기  47.0   0  gold  ESTP  20.129444  2021-06-12  6779.0\n",
              "76  id76  71.0   경기  12.0   0   NaN  ENTJ  83.685380  2021-07-28  2872.0\n",
              "77  id77  77.0   경기  31.0   0   NaN  INFP  98.429899  2021-01-16  1518.0\n",
              "78  id78  92.0   경기  96.0   1  gold  INTJ  69.730313  2021-10-27  7565.0\n",
              "79  id79  30.0   경기   NaN   0  gold  INTJ  80.138280  2021-08-14  8777.0\n",
              "\n",
              "[80 rows x 10 columns]"
            ],
            "text/html": [
              "\n",
              "  <div id=\"df-eab00c24-c7a6-4edc-996c-cc747351085b\">\n",
              "    <div class=\"colab-df-container\">\n",
              "      <div>\n",
              "<style scoped>\n",
              "    .dataframe tbody tr th:only-of-type {\n",
              "        vertical-align: middle;\n",
              "    }\n",
              "\n",
              "    .dataframe tbody tr th {\n",
              "        vertical-align: top;\n",
              "    }\n",
              "\n",
              "    .dataframe thead th {\n",
              "        text-align: right;\n",
              "    }\n",
              "</style>\n",
              "<table border=\"1\" class=\"dataframe\">\n",
              "  <thead>\n",
              "    <tr style=\"text-align: right;\">\n",
              "      <th></th>\n",
              "      <th>id</th>\n",
              "      <th>age</th>\n",
              "      <th>city</th>\n",
              "      <th>f1</th>\n",
              "      <th>f2</th>\n",
              "      <th>f3</th>\n",
              "      <th>f4</th>\n",
              "      <th>f5</th>\n",
              "      <th>subscribed</th>\n",
              "      <th>views</th>\n",
              "    </tr>\n",
              "  </thead>\n",
              "  <tbody>\n",
              "    <tr>\n",
              "      <th>0</th>\n",
              "      <td>id01</td>\n",
              "      <td>2.0</td>\n",
              "      <td>서울</td>\n",
              "      <td>NaN</td>\n",
              "      <td>0</td>\n",
              "      <td>gold</td>\n",
              "      <td>ENFJ</td>\n",
              "      <td>91.297791</td>\n",
              "      <td>2021-07-16</td>\n",
              "      <td>6820.0</td>\n",
              "    </tr>\n",
              "    <tr>\n",
              "      <th>1</th>\n",
              "      <td>id02</td>\n",
              "      <td>9.0</td>\n",
              "      <td>서울</td>\n",
              "      <td>70.0</td>\n",
              "      <td>1</td>\n",
              "      <td>NaN</td>\n",
              "      <td>ENFJ</td>\n",
              "      <td>60.339826</td>\n",
              "      <td>2021-05-12</td>\n",
              "      <td>2534.0</td>\n",
              "    </tr>\n",
              "    <tr>\n",
              "      <th>2</th>\n",
              "      <td>id03</td>\n",
              "      <td>27.0</td>\n",
              "      <td>서울</td>\n",
              "      <td>61.0</td>\n",
              "      <td>1</td>\n",
              "      <td>gold</td>\n",
              "      <td>ISTJ</td>\n",
              "      <td>17.252986</td>\n",
              "      <td>2021-03-16</td>\n",
              "      <td>7312.0</td>\n",
              "    </tr>\n",
              "    <tr>\n",
              "      <th>3</th>\n",
              "      <td>id04</td>\n",
              "      <td>75.0</td>\n",
              "      <td>서울</td>\n",
              "      <td>NaN</td>\n",
              "      <td>2</td>\n",
              "      <td>NaN</td>\n",
              "      <td>INFP</td>\n",
              "      <td>52.667078</td>\n",
              "      <td>2021-07-21</td>\n",
              "      <td>493.0</td>\n",
              "    </tr>\n",
              "    <tr>\n",
              "      <th>4</th>\n",
              "      <td>id05</td>\n",
              "      <td>24.0</td>\n",
              "      <td>서울</td>\n",
              "      <td>85.0</td>\n",
              "      <td>2</td>\n",
              "      <td>NaN</td>\n",
              "      <td>ISFJ</td>\n",
              "      <td>29.269869</td>\n",
              "      <td>2021-03-07</td>\n",
              "      <td>1338.0</td>\n",
              "    </tr>\n",
              "    <tr>\n",
              "      <th>...</th>\n",
              "      <td>...</td>\n",
              "      <td>...</td>\n",
              "      <td>...</td>\n",
              "      <td>...</td>\n",
              "      <td>...</td>\n",
              "      <td>...</td>\n",
              "      <td>...</td>\n",
              "      <td>...</td>\n",
              "      <td>...</td>\n",
              "      <td>...</td>\n",
              "    </tr>\n",
              "    <tr>\n",
              "      <th>75</th>\n",
              "      <td>id75</td>\n",
              "      <td>63.0</td>\n",
              "      <td>경기</td>\n",
              "      <td>47.0</td>\n",
              "      <td>0</td>\n",
              "      <td>gold</td>\n",
              "      <td>ESTP</td>\n",
              "      <td>20.129444</td>\n",
              "      <td>2021-06-12</td>\n",
              "      <td>6779.0</td>\n",
              "    </tr>\n",
              "    <tr>\n",
              "      <th>76</th>\n",
              "      <td>id76</td>\n",
              "      <td>71.0</td>\n",
              "      <td>경기</td>\n",
              "      <td>12.0</td>\n",
              "      <td>0</td>\n",
              "      <td>NaN</td>\n",
              "      <td>ENTJ</td>\n",
              "      <td>83.685380</td>\n",
              "      <td>2021-07-28</td>\n",
              "      <td>2872.0</td>\n",
              "    </tr>\n",
              "    <tr>\n",
              "      <th>77</th>\n",
              "      <td>id77</td>\n",
              "      <td>77.0</td>\n",
              "      <td>경기</td>\n",
              "      <td>31.0</td>\n",
              "      <td>0</td>\n",
              "      <td>NaN</td>\n",
              "      <td>INFP</td>\n",
              "      <td>98.429899</td>\n",
              "      <td>2021-01-16</td>\n",
              "      <td>1518.0</td>\n",
              "    </tr>\n",
              "    <tr>\n",
              "      <th>78</th>\n",
              "      <td>id78</td>\n",
              "      <td>92.0</td>\n",
              "      <td>경기</td>\n",
              "      <td>96.0</td>\n",
              "      <td>1</td>\n",
              "      <td>gold</td>\n",
              "      <td>INTJ</td>\n",
              "      <td>69.730313</td>\n",
              "      <td>2021-10-27</td>\n",
              "      <td>7565.0</td>\n",
              "    </tr>\n",
              "    <tr>\n",
              "      <th>79</th>\n",
              "      <td>id79</td>\n",
              "      <td>30.0</td>\n",
              "      <td>경기</td>\n",
              "      <td>NaN</td>\n",
              "      <td>0</td>\n",
              "      <td>gold</td>\n",
              "      <td>INTJ</td>\n",
              "      <td>80.138280</td>\n",
              "      <td>2021-08-14</td>\n",
              "      <td>8777.0</td>\n",
              "    </tr>\n",
              "  </tbody>\n",
              "</table>\n",
              "<p>80 rows × 10 columns</p>\n",
              "</div>\n",
              "      <button class=\"colab-df-convert\" onclick=\"convertToInteractive('df-eab00c24-c7a6-4edc-996c-cc747351085b')\"\n",
              "              title=\"Convert this dataframe to an interactive table.\"\n",
              "              style=\"display:none;\">\n",
              "        \n",
              "  <svg xmlns=\"http://www.w3.org/2000/svg\" height=\"24px\"viewBox=\"0 0 24 24\"\n",
              "       width=\"24px\">\n",
              "    <path d=\"M0 0h24v24H0V0z\" fill=\"none\"/>\n",
              "    <path d=\"M18.56 5.44l.94 2.06.94-2.06 2.06-.94-2.06-.94-.94-2.06-.94 2.06-2.06.94zm-11 1L8.5 8.5l.94-2.06 2.06-.94-2.06-.94L8.5 2.5l-.94 2.06-2.06.94zm10 10l.94 2.06.94-2.06 2.06-.94-2.06-.94-.94-2.06-.94 2.06-2.06.94z\"/><path d=\"M17.41 7.96l-1.37-1.37c-.4-.4-.92-.59-1.43-.59-.52 0-1.04.2-1.43.59L10.3 9.45l-7.72 7.72c-.78.78-.78 2.05 0 2.83L4 21.41c.39.39.9.59 1.41.59.51 0 1.02-.2 1.41-.59l7.78-7.78 2.81-2.81c.8-.78.8-2.07 0-2.86zM5.41 20L4 18.59l7.72-7.72 1.47 1.35L5.41 20z\"/>\n",
              "  </svg>\n",
              "      </button>\n",
              "      \n",
              "  <style>\n",
              "    .colab-df-container {\n",
              "      display:flex;\n",
              "      flex-wrap:wrap;\n",
              "      gap: 12px;\n",
              "    }\n",
              "\n",
              "    .colab-df-convert {\n",
              "      background-color: #E8F0FE;\n",
              "      border: none;\n",
              "      border-radius: 50%;\n",
              "      cursor: pointer;\n",
              "      display: none;\n",
              "      fill: #1967D2;\n",
              "      height: 32px;\n",
              "      padding: 0 0 0 0;\n",
              "      width: 32px;\n",
              "    }\n",
              "\n",
              "    .colab-df-convert:hover {\n",
              "      background-color: #E2EBFA;\n",
              "      box-shadow: 0px 1px 2px rgba(60, 64, 67, 0.3), 0px 1px 3px 1px rgba(60, 64, 67, 0.15);\n",
              "      fill: #174EA6;\n",
              "    }\n",
              "\n",
              "    [theme=dark] .colab-df-convert {\n",
              "      background-color: #3B4455;\n",
              "      fill: #D2E3FC;\n",
              "    }\n",
              "\n",
              "    [theme=dark] .colab-df-convert:hover {\n",
              "      background-color: #434B5C;\n",
              "      box-shadow: 0px 1px 3px 1px rgba(0, 0, 0, 0.15);\n",
              "      filter: drop-shadow(0px 1px 2px rgba(0, 0, 0, 0.3));\n",
              "      fill: #FFFFFF;\n",
              "    }\n",
              "  </style>\n",
              "\n",
              "      <script>\n",
              "        const buttonEl =\n",
              "          document.querySelector('#df-eab00c24-c7a6-4edc-996c-cc747351085b button.colab-df-convert');\n",
              "        buttonEl.style.display =\n",
              "          google.colab.kernel.accessAllowed ? 'block' : 'none';\n",
              "\n",
              "        async function convertToInteractive(key) {\n",
              "          const element = document.querySelector('#df-eab00c24-c7a6-4edc-996c-cc747351085b');\n",
              "          const dataTable =\n",
              "            await google.colab.kernel.invokeFunction('convertToInteractive',\n",
              "                                                     [key], {});\n",
              "          if (!dataTable) return;\n",
              "\n",
              "          const docLinkHtml = 'Like what you see? Visit the ' +\n",
              "            '<a target=\"_blank\" href=https://colab.research.google.com/notebooks/data_table.ipynb>data table notebook</a>'\n",
              "            + ' to learn more about interactive tables.';\n",
              "          element.innerHTML = '';\n",
              "          dataTable['output_type'] = 'display_data';\n",
              "          await google.colab.output.renderOutput(dataTable, element);\n",
              "          const docLink = document.createElement('div');\n",
              "          docLink.innerHTML = docLinkHtml;\n",
              "          element.appendChild(docLink);\n",
              "        }\n",
              "      </script>\n",
              "    </div>\n",
              "  </div>\n",
              "  "
            ]
          },
          "metadata": {},
          "execution_count": 31
        }
      ]
    },
    {
      "cell_type": "code",
      "source": [
        "std1 = df['f1'].std()"
      ],
      "metadata": {
        "id": "opynSQ9-MnZP"
      },
      "execution_count": 32,
      "outputs": []
    },
    {
      "cell_type": "code",
      "source": [
        "std1"
      ],
      "metadata": {
        "id": "grXmQJiUMnOF",
        "outputId": "25c55e58-cabf-4c23-b38f-e0903b67cbaa",
        "colab": {
          "base_uri": "https://localhost:8080/"
        }
      },
      "execution_count": 33,
      "outputs": [
        {
          "output_type": "execute_result",
          "data": {
            "text/plain": [
              "20.574853076621935"
            ]
          },
          "metadata": {},
          "execution_count": 33
        }
      ]
    },
    {
      "cell_type": "code",
      "source": [
        "m=df['f1'].median()\n",
        "print(m)\n",
        "df['f1'] = df['f1'].fillna(m)\n",
        "std2 = df['f1'].std()"
      ],
      "metadata": {
        "id": "drLN7wW3MnLU",
        "outputId": "a95d9a6b-a149-470d-e98c-5fd1605747dd",
        "colab": {
          "base_uri": "https://localhost:8080/"
        }
      },
      "execution_count": 35,
      "outputs": [
        {
          "output_type": "stream",
          "name": "stdout",
          "text": [
            "68.0\n"
          ]
        }
      ]
    },
    {
      "cell_type": "code",
      "source": [
        "std2"
      ],
      "metadata": {
        "id": "sWYCL9IYNHHt",
        "outputId": "316f2279-600b-46bc-dace-686c6d1e46fc",
        "colab": {
          "base_uri": "https://localhost:8080/"
        }
      },
      "execution_count": 36,
      "outputs": [
        {
          "output_type": "execute_result",
          "data": {
            "text/plain": [
              "17.010788646613268"
            ]
          },
          "metadata": {},
          "execution_count": 36
        }
      ]
    },
    {
      "cell_type": "code",
      "source": [
        "print(abs(std1-std2))"
      ],
      "metadata": {
        "id": "c6PrfPjOOelH",
        "outputId": "9430d081-3920-4bb1-e5d4-f055eb7cad01",
        "colab": {
          "base_uri": "https://localhost:8080/"
        }
      },
      "execution_count": 37,
      "outputs": [
        {
          "output_type": "stream",
          "name": "stdout",
          "text": [
            "3.564064430008667\n"
          ]
        }
      ]
    },
    {
      "cell_type": "markdown",
      "source": [
        "## 문제3\n",
        "- 주어진 데이터셋(members.csv)의 'age'컬럼의 이상치를 모두 더하시오!\n",
        "- 단, 평균으로부터 '표준편차*1.5'를 벗어나는 영역을 이상치라고 판단함"
      ],
      "metadata": {
        "id": "BFQNkJJlJkqU"
      }
    },
    {
      "cell_type": "code",
      "source": [
        "# your code"
      ],
      "metadata": {
        "id": "Pd-8ObQkJxIz"
      },
      "execution_count": null,
      "outputs": []
    },
    {
      "cell_type": "code",
      "source": [
        "import pandas as pd\n",
        "df = pd.read_csv(\"members.csv\")"
      ],
      "metadata": {
        "id": "04Wo4JdmJxLD"
      },
      "execution_count": 38,
      "outputs": []
    },
    {
      "cell_type": "code",
      "source": [
        "std = df['age'].std()*1.5\n",
        "mean =df['age'].mean()\n",
        "\n",
        "print( std)\n",
        "print(mean)"
      ],
      "metadata": {
        "id": "8oKCDw6tPoxT",
        "outputId": "80603774-4b5a-4078-c99c-9f67624b6659",
        "colab": {
          "base_uri": "https://localhost:8080/"
        }
      },
      "execution_count": 41,
      "outputs": [
        {
          "output_type": "stream",
          "name": "stdout",
          "text": [
            "45.66413778388304\n",
            "50.963\n"
          ]
        }
      ]
    },
    {
      "cell_type": "code",
      "source": [
        "lower = mean -std\n",
        "upper = mean+std\n",
        "\n",
        "print( lower , upper)"
      ],
      "metadata": {
        "id": "ZrqsFnM-Pouu",
        "outputId": "11165484-dbe5-4039-e8b2-07466e264ec8",
        "colab": {
          "base_uri": "https://localhost:8080/"
        }
      },
      "execution_count": 42,
      "outputs": [
        {
          "output_type": "stream",
          "name": "stdout",
          "text": [
            "5.298862216116959 96.62713778388304\n"
          ]
        }
      ]
    },
    {
      "cell_type": "code",
      "source": [
        "cond1 = df['age']<lower\n",
        "cond2 = df['age']>upper"
      ],
      "metadata": {
        "id": "p7L6uyjxPosO"
      },
      "execution_count": 43,
      "outputs": []
    },
    {
      "cell_type": "code",
      "source": [
        "df[cond1]"
      ],
      "metadata": {
        "id": "_GoTrgv9Pop3",
        "outputId": "496edab8-e3ec-48a9-bd70-472dcfcc66ce",
        "colab": {
          "base_uri": "https://localhost:8080/",
          "height": 332
        }
      },
      "execution_count": 44,
      "outputs": [
        {
          "output_type": "execute_result",
          "data": {
            "text/plain": [
              "      id   age city     f1  f2      f3    f4         f5  subscribed   views\n",
              "0   id01   2.0   서울    NaN   0    gold  ENFJ  91.297791  2021-07-16  6820.0\n",
              "8   id09   3.3   서울   35.0   2     NaN  ESFJ  17.252986  2021-03-21  2764.0\n",
              "22  id22  -6.3   부산   72.0   1    gold  ENFP  52.667078  2021-02-09  6147.0\n",
              "29  id29 -13.5   부산   47.0   2    gold  ENTP  67.886373  2021-08-28  6793.0\n",
              "57  id57   3.0   대구  111.0   0  silver  ISFJ  29.269869  2021-01-12  4421.0\n",
              "58  id58   0.0   대구  100.0   2     NaN  ESTP  33.308999  2021-04-18  1928.0\n",
              "70  id70  -9.0   경기   96.0   1  silver  ISTP  48.431184  2021-11-17  4442.0\n",
              "86  id86   2.0   경기    NaN   0     NaN  ESTP  29.269869  2021-02-16  2155.0\n",
              "99  id99   1.0   경기   47.0   0    gold  ESFJ  97.381034  2021-12-02  6090.0"
            ],
            "text/html": [
              "\n",
              "  <div id=\"df-2e88be5f-2e77-400c-bdd1-ba21b747492b\">\n",
              "    <div class=\"colab-df-container\">\n",
              "      <div>\n",
              "<style scoped>\n",
              "    .dataframe tbody tr th:only-of-type {\n",
              "        vertical-align: middle;\n",
              "    }\n",
              "\n",
              "    .dataframe tbody tr th {\n",
              "        vertical-align: top;\n",
              "    }\n",
              "\n",
              "    .dataframe thead th {\n",
              "        text-align: right;\n",
              "    }\n",
              "</style>\n",
              "<table border=\"1\" class=\"dataframe\">\n",
              "  <thead>\n",
              "    <tr style=\"text-align: right;\">\n",
              "      <th></th>\n",
              "      <th>id</th>\n",
              "      <th>age</th>\n",
              "      <th>city</th>\n",
              "      <th>f1</th>\n",
              "      <th>f2</th>\n",
              "      <th>f3</th>\n",
              "      <th>f4</th>\n",
              "      <th>f5</th>\n",
              "      <th>subscribed</th>\n",
              "      <th>views</th>\n",
              "    </tr>\n",
              "  </thead>\n",
              "  <tbody>\n",
              "    <tr>\n",
              "      <th>0</th>\n",
              "      <td>id01</td>\n",
              "      <td>2.0</td>\n",
              "      <td>서울</td>\n",
              "      <td>NaN</td>\n",
              "      <td>0</td>\n",
              "      <td>gold</td>\n",
              "      <td>ENFJ</td>\n",
              "      <td>91.297791</td>\n",
              "      <td>2021-07-16</td>\n",
              "      <td>6820.0</td>\n",
              "    </tr>\n",
              "    <tr>\n",
              "      <th>8</th>\n",
              "      <td>id09</td>\n",
              "      <td>3.3</td>\n",
              "      <td>서울</td>\n",
              "      <td>35.0</td>\n",
              "      <td>2</td>\n",
              "      <td>NaN</td>\n",
              "      <td>ESFJ</td>\n",
              "      <td>17.252986</td>\n",
              "      <td>2021-03-21</td>\n",
              "      <td>2764.0</td>\n",
              "    </tr>\n",
              "    <tr>\n",
              "      <th>22</th>\n",
              "      <td>id22</td>\n",
              "      <td>-6.3</td>\n",
              "      <td>부산</td>\n",
              "      <td>72.0</td>\n",
              "      <td>1</td>\n",
              "      <td>gold</td>\n",
              "      <td>ENFP</td>\n",
              "      <td>52.667078</td>\n",
              "      <td>2021-02-09</td>\n",
              "      <td>6147.0</td>\n",
              "    </tr>\n",
              "    <tr>\n",
              "      <th>29</th>\n",
              "      <td>id29</td>\n",
              "      <td>-13.5</td>\n",
              "      <td>부산</td>\n",
              "      <td>47.0</td>\n",
              "      <td>2</td>\n",
              "      <td>gold</td>\n",
              "      <td>ENTP</td>\n",
              "      <td>67.886373</td>\n",
              "      <td>2021-08-28</td>\n",
              "      <td>6793.0</td>\n",
              "    </tr>\n",
              "    <tr>\n",
              "      <th>57</th>\n",
              "      <td>id57</td>\n",
              "      <td>3.0</td>\n",
              "      <td>대구</td>\n",
              "      <td>111.0</td>\n",
              "      <td>0</td>\n",
              "      <td>silver</td>\n",
              "      <td>ISFJ</td>\n",
              "      <td>29.269869</td>\n",
              "      <td>2021-01-12</td>\n",
              "      <td>4421.0</td>\n",
              "    </tr>\n",
              "    <tr>\n",
              "      <th>58</th>\n",
              "      <td>id58</td>\n",
              "      <td>0.0</td>\n",
              "      <td>대구</td>\n",
              "      <td>100.0</td>\n",
              "      <td>2</td>\n",
              "      <td>NaN</td>\n",
              "      <td>ESTP</td>\n",
              "      <td>33.308999</td>\n",
              "      <td>2021-04-18</td>\n",
              "      <td>1928.0</td>\n",
              "    </tr>\n",
              "    <tr>\n",
              "      <th>70</th>\n",
              "      <td>id70</td>\n",
              "      <td>-9.0</td>\n",
              "      <td>경기</td>\n",
              "      <td>96.0</td>\n",
              "      <td>1</td>\n",
              "      <td>silver</td>\n",
              "      <td>ISTP</td>\n",
              "      <td>48.431184</td>\n",
              "      <td>2021-11-17</td>\n",
              "      <td>4442.0</td>\n",
              "    </tr>\n",
              "    <tr>\n",
              "      <th>86</th>\n",
              "      <td>id86</td>\n",
              "      <td>2.0</td>\n",
              "      <td>경기</td>\n",
              "      <td>NaN</td>\n",
              "      <td>0</td>\n",
              "      <td>NaN</td>\n",
              "      <td>ESTP</td>\n",
              "      <td>29.269869</td>\n",
              "      <td>2021-02-16</td>\n",
              "      <td>2155.0</td>\n",
              "    </tr>\n",
              "    <tr>\n",
              "      <th>99</th>\n",
              "      <td>id99</td>\n",
              "      <td>1.0</td>\n",
              "      <td>경기</td>\n",
              "      <td>47.0</td>\n",
              "      <td>0</td>\n",
              "      <td>gold</td>\n",
              "      <td>ESFJ</td>\n",
              "      <td>97.381034</td>\n",
              "      <td>2021-12-02</td>\n",
              "      <td>6090.0</td>\n",
              "    </tr>\n",
              "  </tbody>\n",
              "</table>\n",
              "</div>\n",
              "      <button class=\"colab-df-convert\" onclick=\"convertToInteractive('df-2e88be5f-2e77-400c-bdd1-ba21b747492b')\"\n",
              "              title=\"Convert this dataframe to an interactive table.\"\n",
              "              style=\"display:none;\">\n",
              "        \n",
              "  <svg xmlns=\"http://www.w3.org/2000/svg\" height=\"24px\"viewBox=\"0 0 24 24\"\n",
              "       width=\"24px\">\n",
              "    <path d=\"M0 0h24v24H0V0z\" fill=\"none\"/>\n",
              "    <path d=\"M18.56 5.44l.94 2.06.94-2.06 2.06-.94-2.06-.94-.94-2.06-.94 2.06-2.06.94zm-11 1L8.5 8.5l.94-2.06 2.06-.94-2.06-.94L8.5 2.5l-.94 2.06-2.06.94zm10 10l.94 2.06.94-2.06 2.06-.94-2.06-.94-.94-2.06-.94 2.06-2.06.94z\"/><path d=\"M17.41 7.96l-1.37-1.37c-.4-.4-.92-.59-1.43-.59-.52 0-1.04.2-1.43.59L10.3 9.45l-7.72 7.72c-.78.78-.78 2.05 0 2.83L4 21.41c.39.39.9.59 1.41.59.51 0 1.02-.2 1.41-.59l7.78-7.78 2.81-2.81c.8-.78.8-2.07 0-2.86zM5.41 20L4 18.59l7.72-7.72 1.47 1.35L5.41 20z\"/>\n",
              "  </svg>\n",
              "      </button>\n",
              "      \n",
              "  <style>\n",
              "    .colab-df-container {\n",
              "      display:flex;\n",
              "      flex-wrap:wrap;\n",
              "      gap: 12px;\n",
              "    }\n",
              "\n",
              "    .colab-df-convert {\n",
              "      background-color: #E8F0FE;\n",
              "      border: none;\n",
              "      border-radius: 50%;\n",
              "      cursor: pointer;\n",
              "      display: none;\n",
              "      fill: #1967D2;\n",
              "      height: 32px;\n",
              "      padding: 0 0 0 0;\n",
              "      width: 32px;\n",
              "    }\n",
              "\n",
              "    .colab-df-convert:hover {\n",
              "      background-color: #E2EBFA;\n",
              "      box-shadow: 0px 1px 2px rgba(60, 64, 67, 0.3), 0px 1px 3px 1px rgba(60, 64, 67, 0.15);\n",
              "      fill: #174EA6;\n",
              "    }\n",
              "\n",
              "    [theme=dark] .colab-df-convert {\n",
              "      background-color: #3B4455;\n",
              "      fill: #D2E3FC;\n",
              "    }\n",
              "\n",
              "    [theme=dark] .colab-df-convert:hover {\n",
              "      background-color: #434B5C;\n",
              "      box-shadow: 0px 1px 3px 1px rgba(0, 0, 0, 0.15);\n",
              "      filter: drop-shadow(0px 1px 2px rgba(0, 0, 0, 0.3));\n",
              "      fill: #FFFFFF;\n",
              "    }\n",
              "  </style>\n",
              "\n",
              "      <script>\n",
              "        const buttonEl =\n",
              "          document.querySelector('#df-2e88be5f-2e77-400c-bdd1-ba21b747492b button.colab-df-convert');\n",
              "        buttonEl.style.display =\n",
              "          google.colab.kernel.accessAllowed ? 'block' : 'none';\n",
              "\n",
              "        async function convertToInteractive(key) {\n",
              "          const element = document.querySelector('#df-2e88be5f-2e77-400c-bdd1-ba21b747492b');\n",
              "          const dataTable =\n",
              "            await google.colab.kernel.invokeFunction('convertToInteractive',\n",
              "                                                     [key], {});\n",
              "          if (!dataTable) return;\n",
              "\n",
              "          const docLinkHtml = 'Like what you see? Visit the ' +\n",
              "            '<a target=\"_blank\" href=https://colab.research.google.com/notebooks/data_table.ipynb>data table notebook</a>'\n",
              "            + ' to learn more about interactive tables.';\n",
              "          element.innerHTML = '';\n",
              "          dataTable['output_type'] = 'display_data';\n",
              "          await google.colab.output.renderOutput(dataTable, element);\n",
              "          const docLink = document.createElement('div');\n",
              "          docLink.innerHTML = docLinkHtml;\n",
              "          element.appendChild(docLink);\n",
              "        }\n",
              "      </script>\n",
              "    </div>\n",
              "  </div>\n",
              "  "
            ]
          },
          "metadata": {},
          "execution_count": 44
        }
      ]
    },
    {
      "cell_type": "code",
      "source": [
        "df[cond2]"
      ],
      "metadata": {
        "id": "-olbbZsHRSgG",
        "outputId": "cb2630f1-38e8-4c76-bdc8-5371fca9471c",
        "colab": {
          "base_uri": "https://localhost:8080/",
          "height": 206
        }
      },
      "execution_count": 45,
      "outputs": [
        {
          "output_type": "execute_result",
          "data": {
            "text/plain": [
              "      id    age city    f1  f2      f3    f4         f5  subscribed   views\n",
              "37  id37  100.0   부산   NaN   0  silver  ESTP  33.308999  2021-07-08  4068.0\n",
              "45  id45   97.0   대구  88.0   0    gold  ENFJ  13.049921  2021-06-21  8317.0\n",
              "52  id52   97.0   대구  82.0   1    gold  ISFJ  90.496999  2021-05-20  8518.0\n",
              "92  id92   97.0   경기  78.0   1    gold  INFP  97.381034  2021-05-08  9625.0\n",
              "97  id97  100.0   경기   NaN   0    gold  INFP  67.886373  2021-03-18  6687.0"
            ],
            "text/html": [
              "\n",
              "  <div id=\"df-c696bd63-ebaa-49b4-9457-6e7c9d8ee7c1\">\n",
              "    <div class=\"colab-df-container\">\n",
              "      <div>\n",
              "<style scoped>\n",
              "    .dataframe tbody tr th:only-of-type {\n",
              "        vertical-align: middle;\n",
              "    }\n",
              "\n",
              "    .dataframe tbody tr th {\n",
              "        vertical-align: top;\n",
              "    }\n",
              "\n",
              "    .dataframe thead th {\n",
              "        text-align: right;\n",
              "    }\n",
              "</style>\n",
              "<table border=\"1\" class=\"dataframe\">\n",
              "  <thead>\n",
              "    <tr style=\"text-align: right;\">\n",
              "      <th></th>\n",
              "      <th>id</th>\n",
              "      <th>age</th>\n",
              "      <th>city</th>\n",
              "      <th>f1</th>\n",
              "      <th>f2</th>\n",
              "      <th>f3</th>\n",
              "      <th>f4</th>\n",
              "      <th>f5</th>\n",
              "      <th>subscribed</th>\n",
              "      <th>views</th>\n",
              "    </tr>\n",
              "  </thead>\n",
              "  <tbody>\n",
              "    <tr>\n",
              "      <th>37</th>\n",
              "      <td>id37</td>\n",
              "      <td>100.0</td>\n",
              "      <td>부산</td>\n",
              "      <td>NaN</td>\n",
              "      <td>0</td>\n",
              "      <td>silver</td>\n",
              "      <td>ESTP</td>\n",
              "      <td>33.308999</td>\n",
              "      <td>2021-07-08</td>\n",
              "      <td>4068.0</td>\n",
              "    </tr>\n",
              "    <tr>\n",
              "      <th>45</th>\n",
              "      <td>id45</td>\n",
              "      <td>97.0</td>\n",
              "      <td>대구</td>\n",
              "      <td>88.0</td>\n",
              "      <td>0</td>\n",
              "      <td>gold</td>\n",
              "      <td>ENFJ</td>\n",
              "      <td>13.049921</td>\n",
              "      <td>2021-06-21</td>\n",
              "      <td>8317.0</td>\n",
              "    </tr>\n",
              "    <tr>\n",
              "      <th>52</th>\n",
              "      <td>id52</td>\n",
              "      <td>97.0</td>\n",
              "      <td>대구</td>\n",
              "      <td>82.0</td>\n",
              "      <td>1</td>\n",
              "      <td>gold</td>\n",
              "      <td>ISFJ</td>\n",
              "      <td>90.496999</td>\n",
              "      <td>2021-05-20</td>\n",
              "      <td>8518.0</td>\n",
              "    </tr>\n",
              "    <tr>\n",
              "      <th>92</th>\n",
              "      <td>id92</td>\n",
              "      <td>97.0</td>\n",
              "      <td>경기</td>\n",
              "      <td>78.0</td>\n",
              "      <td>1</td>\n",
              "      <td>gold</td>\n",
              "      <td>INFP</td>\n",
              "      <td>97.381034</td>\n",
              "      <td>2021-05-08</td>\n",
              "      <td>9625.0</td>\n",
              "    </tr>\n",
              "    <tr>\n",
              "      <th>97</th>\n",
              "      <td>id97</td>\n",
              "      <td>100.0</td>\n",
              "      <td>경기</td>\n",
              "      <td>NaN</td>\n",
              "      <td>0</td>\n",
              "      <td>gold</td>\n",
              "      <td>INFP</td>\n",
              "      <td>67.886373</td>\n",
              "      <td>2021-03-18</td>\n",
              "      <td>6687.0</td>\n",
              "    </tr>\n",
              "  </tbody>\n",
              "</table>\n",
              "</div>\n",
              "      <button class=\"colab-df-convert\" onclick=\"convertToInteractive('df-c696bd63-ebaa-49b4-9457-6e7c9d8ee7c1')\"\n",
              "              title=\"Convert this dataframe to an interactive table.\"\n",
              "              style=\"display:none;\">\n",
              "        \n",
              "  <svg xmlns=\"http://www.w3.org/2000/svg\" height=\"24px\"viewBox=\"0 0 24 24\"\n",
              "       width=\"24px\">\n",
              "    <path d=\"M0 0h24v24H0V0z\" fill=\"none\"/>\n",
              "    <path d=\"M18.56 5.44l.94 2.06.94-2.06 2.06-.94-2.06-.94-.94-2.06-.94 2.06-2.06.94zm-11 1L8.5 8.5l.94-2.06 2.06-.94-2.06-.94L8.5 2.5l-.94 2.06-2.06.94zm10 10l.94 2.06.94-2.06 2.06-.94-2.06-.94-.94-2.06-.94 2.06-2.06.94z\"/><path d=\"M17.41 7.96l-1.37-1.37c-.4-.4-.92-.59-1.43-.59-.52 0-1.04.2-1.43.59L10.3 9.45l-7.72 7.72c-.78.78-.78 2.05 0 2.83L4 21.41c.39.39.9.59 1.41.59.51 0 1.02-.2 1.41-.59l7.78-7.78 2.81-2.81c.8-.78.8-2.07 0-2.86zM5.41 20L4 18.59l7.72-7.72 1.47 1.35L5.41 20z\"/>\n",
              "  </svg>\n",
              "      </button>\n",
              "      \n",
              "  <style>\n",
              "    .colab-df-container {\n",
              "      display:flex;\n",
              "      flex-wrap:wrap;\n",
              "      gap: 12px;\n",
              "    }\n",
              "\n",
              "    .colab-df-convert {\n",
              "      background-color: #E8F0FE;\n",
              "      border: none;\n",
              "      border-radius: 50%;\n",
              "      cursor: pointer;\n",
              "      display: none;\n",
              "      fill: #1967D2;\n",
              "      height: 32px;\n",
              "      padding: 0 0 0 0;\n",
              "      width: 32px;\n",
              "    }\n",
              "\n",
              "    .colab-df-convert:hover {\n",
              "      background-color: #E2EBFA;\n",
              "      box-shadow: 0px 1px 2px rgba(60, 64, 67, 0.3), 0px 1px 3px 1px rgba(60, 64, 67, 0.15);\n",
              "      fill: #174EA6;\n",
              "    }\n",
              "\n",
              "    [theme=dark] .colab-df-convert {\n",
              "      background-color: #3B4455;\n",
              "      fill: #D2E3FC;\n",
              "    }\n",
              "\n",
              "    [theme=dark] .colab-df-convert:hover {\n",
              "      background-color: #434B5C;\n",
              "      box-shadow: 0px 1px 3px 1px rgba(0, 0, 0, 0.15);\n",
              "      filter: drop-shadow(0px 1px 2px rgba(0, 0, 0, 0.3));\n",
              "      fill: #FFFFFF;\n",
              "    }\n",
              "  </style>\n",
              "\n",
              "      <script>\n",
              "        const buttonEl =\n",
              "          document.querySelector('#df-c696bd63-ebaa-49b4-9457-6e7c9d8ee7c1 button.colab-df-convert');\n",
              "        buttonEl.style.display =\n",
              "          google.colab.kernel.accessAllowed ? 'block' : 'none';\n",
              "\n",
              "        async function convertToInteractive(key) {\n",
              "          const element = document.querySelector('#df-c696bd63-ebaa-49b4-9457-6e7c9d8ee7c1');\n",
              "          const dataTable =\n",
              "            await google.colab.kernel.invokeFunction('convertToInteractive',\n",
              "                                                     [key], {});\n",
              "          if (!dataTable) return;\n",
              "\n",
              "          const docLinkHtml = 'Like what you see? Visit the ' +\n",
              "            '<a target=\"_blank\" href=https://colab.research.google.com/notebooks/data_table.ipynb>data table notebook</a>'\n",
              "            + ' to learn more about interactive tables.';\n",
              "          element.innerHTML = '';\n",
              "          dataTable['output_type'] = 'display_data';\n",
              "          await google.colab.output.renderOutput(dataTable, element);\n",
              "          const docLink = document.createElement('div');\n",
              "          docLink.innerHTML = docLinkHtml;\n",
              "          element.appendChild(docLink);\n",
              "        }\n",
              "      </script>\n",
              "    </div>\n",
              "  </div>\n",
              "  "
            ]
          },
          "metadata": {},
          "execution_count": 45
        }
      ]
    },
    {
      "cell_type": "code",
      "source": [
        "print(df[(cond1)|(cond2)]['age'].sum())"
      ],
      "metadata": {
        "id": "Zrvq2Fd_RSdo",
        "outputId": "e50673e0-ca40-4e2e-a437-e84bbfc9cb27",
        "colab": {
          "base_uri": "https://localhost:8080/"
        }
      },
      "execution_count": 46,
      "outputs": [
        {
          "output_type": "stream",
          "name": "stdout",
          "text": [
            "473.5\n"
          ]
        }
      ]
    },
    {
      "cell_type": "markdown",
      "source": [
        "# 풀이"
      ],
      "metadata": {
        "id": "_NoUl0RhJ2Bt"
      }
    },
    {
      "cell_type": "markdown",
      "source": [
        "## 문제1\n",
        "- 주어진 데이터셋(members.csv)의 'views' 컬럼 상위 10개 데이터를 상위 10번째 값으로 대체한 후 'age'컬럼에서 80 이상인 데이터의 'views' 컬럼 평균값 구하기"
      ],
      "metadata": {
        "id": "m7H6sLZkJk6L"
      }
    },
    {
      "cell_type": "markdown",
      "source": [
        "풀이 순서\n",
        "- views 컬럼 - 내림차순 정렬 - 상위 10개 불러오기\n",
        "- 10개 중에서 10번째 (최소값) 값 확인 후 대체\n",
        "- age가 80 이상의 views 컬럼 평균"
      ],
      "metadata": {
        "id": "U6S8QWnnC1-L"
      }
    },
    {
      "cell_type": "code",
      "source": [
        "# views 컬럼 - 내림차순 정렬 - 상위 10개 불러오기\n",
        "df = pd.read_csv(\"members.csv\")\n",
        "df = df.sort_values('views', ascending=False)\n",
        "df.head(10)"
      ],
      "metadata": {
        "colab": {
          "base_uri": "https://localhost:8080/",
          "height": 387
        },
        "id": "hQiwbMwIHMqY",
        "outputId": "1a3010c2-0ea3-4462-9f21-34e5a93d8896"
      },
      "execution_count": null,
      "outputs": [
        {
          "output_type": "execute_result",
          "data": {
            "text/html": [
              "<div>\n",
              "<style scoped>\n",
              "    .dataframe tbody tr th:only-of-type {\n",
              "        vertical-align: middle;\n",
              "    }\n",
              "\n",
              "    .dataframe tbody tr th {\n",
              "        vertical-align: top;\n",
              "    }\n",
              "\n",
              "    .dataframe thead th {\n",
              "        text-align: right;\n",
              "    }\n",
              "</style>\n",
              "<table border=\"1\" class=\"dataframe\">\n",
              "  <thead>\n",
              "    <tr style=\"text-align: right;\">\n",
              "      <th></th>\n",
              "      <th>id</th>\n",
              "      <th>age</th>\n",
              "      <th>city</th>\n",
              "      <th>f1</th>\n",
              "      <th>f2</th>\n",
              "      <th>f3</th>\n",
              "      <th>f4</th>\n",
              "      <th>f5</th>\n",
              "      <th>subscribed</th>\n",
              "      <th>views</th>\n",
              "    </tr>\n",
              "  </thead>\n",
              "  <tbody>\n",
              "    <tr>\n",
              "      <th>5</th>\n",
              "      <td>id06</td>\n",
              "      <td>22.0</td>\n",
              "      <td>서울</td>\n",
              "      <td>57.0</td>\n",
              "      <td>0</td>\n",
              "      <td>vip</td>\n",
              "      <td>INTP</td>\n",
              "      <td>20.129444</td>\n",
              "      <td>2021-09-12</td>\n",
              "      <td>21550.0</td>\n",
              "    </tr>\n",
              "    <tr>\n",
              "      <th>56</th>\n",
              "      <td>id56</td>\n",
              "      <td>59.0</td>\n",
              "      <td>대구</td>\n",
              "      <td>NaN</td>\n",
              "      <td>1</td>\n",
              "      <td>vip</td>\n",
              "      <td>ESTJ</td>\n",
              "      <td>73.586397</td>\n",
              "      <td>2021-04-05</td>\n",
              "      <td>19589.0</td>\n",
              "    </tr>\n",
              "    <tr>\n",
              "      <th>83</th>\n",
              "      <td>id83</td>\n",
              "      <td>73.0</td>\n",
              "      <td>경기</td>\n",
              "      <td>50.0</td>\n",
              "      <td>1</td>\n",
              "      <td>vip</td>\n",
              "      <td>ENTP</td>\n",
              "      <td>80.138280</td>\n",
              "      <td>2021-09-26</td>\n",
              "      <td>19139.0</td>\n",
              "    </tr>\n",
              "    <tr>\n",
              "      <th>32</th>\n",
              "      <td>id32</td>\n",
              "      <td>25.0</td>\n",
              "      <td>부산</td>\n",
              "      <td>64.0</td>\n",
              "      <td>0</td>\n",
              "      <td>vip</td>\n",
              "      <td>ISFJ</td>\n",
              "      <td>13.049921</td>\n",
              "      <td>2021-05-24</td>\n",
              "      <td>17421.0</td>\n",
              "    </tr>\n",
              "    <tr>\n",
              "      <th>10</th>\n",
              "      <td>id100</td>\n",
              "      <td>47.0</td>\n",
              "      <td>경기</td>\n",
              "      <td>53.0</td>\n",
              "      <td>0</td>\n",
              "      <td>vip</td>\n",
              "      <td>ESFP</td>\n",
              "      <td>33.308999</td>\n",
              "      <td>2021-02-21</td>\n",
              "      <td>15535.0</td>\n",
              "    </tr>\n",
              "    <tr>\n",
              "      <th>9</th>\n",
              "      <td>id10</td>\n",
              "      <td>95.0</td>\n",
              "      <td>서울</td>\n",
              "      <td>74.0</td>\n",
              "      <td>1</td>\n",
              "      <td>gold</td>\n",
              "      <td>ISFP</td>\n",
              "      <td>98.429899</td>\n",
              "      <td>2021-04-03</td>\n",
              "      <td>9992.0</td>\n",
              "    </tr>\n",
              "    <tr>\n",
              "      <th>49</th>\n",
              "      <td>id49</td>\n",
              "      <td>75.0</td>\n",
              "      <td>대구</td>\n",
              "      <td>88.0</td>\n",
              "      <td>0</td>\n",
              "      <td>gold</td>\n",
              "      <td>INTP</td>\n",
              "      <td>37.113739</td>\n",
              "      <td>2021-03-31</td>\n",
              "      <td>9737.0</td>\n",
              "    </tr>\n",
              "    <tr>\n",
              "      <th>36</th>\n",
              "      <td>id36</td>\n",
              "      <td>68.0</td>\n",
              "      <td>부산</td>\n",
              "      <td>77.0</td>\n",
              "      <td>1</td>\n",
              "      <td>gold</td>\n",
              "      <td>INTP</td>\n",
              "      <td>13.049921</td>\n",
              "      <td>2021-07-20</td>\n",
              "      <td>9713.0</td>\n",
              "    </tr>\n",
              "    <tr>\n",
              "      <th>46</th>\n",
              "      <td>id46</td>\n",
              "      <td>93.0</td>\n",
              "      <td>대구</td>\n",
              "      <td>NaN</td>\n",
              "      <td>0</td>\n",
              "      <td>gold</td>\n",
              "      <td>ESTJ</td>\n",
              "      <td>67.886373</td>\n",
              "      <td>2021-05-23</td>\n",
              "      <td>9711.0</td>\n",
              "    </tr>\n",
              "    <tr>\n",
              "      <th>21</th>\n",
              "      <td>id21</td>\n",
              "      <td>90.0</td>\n",
              "      <td>부산</td>\n",
              "      <td>NaN</td>\n",
              "      <td>1</td>\n",
              "      <td>gold</td>\n",
              "      <td>ISFP</td>\n",
              "      <td>29.269869</td>\n",
              "      <td>2021-05-03</td>\n",
              "      <td>9690.0</td>\n",
              "    </tr>\n",
              "  </tbody>\n",
              "</table>\n",
              "</div>"
            ],
            "text/plain": [
              "       id   age city    f1  f2    f3    f4         f5  subscribed    views\n",
              "5    id06  22.0   서울  57.0   0   vip  INTP  20.129444  2021-09-12  21550.0\n",
              "56   id56  59.0   대구   NaN   1   vip  ESTJ  73.586397  2021-04-05  19589.0\n",
              "83   id83  73.0   경기  50.0   1   vip  ENTP  80.138280  2021-09-26  19139.0\n",
              "32   id32  25.0   부산  64.0   0   vip  ISFJ  13.049921  2021-05-24  17421.0\n",
              "10  id100  47.0   경기  53.0   0   vip  ESFP  33.308999  2021-02-21  15535.0\n",
              "9    id10  95.0   서울  74.0   1  gold  ISFP  98.429899  2021-04-03   9992.0\n",
              "49   id49  75.0   대구  88.0   0  gold  INTP  37.113739  2021-03-31   9737.0\n",
              "36   id36  68.0   부산  77.0   1  gold  INTP  13.049921  2021-07-20   9713.0\n",
              "46   id46  93.0   대구   NaN   0  gold  ESTJ  67.886373  2021-05-23   9711.0\n",
              "21   id21  90.0   부산   NaN   1  gold  ISFP  29.269869  2021-05-03   9690.0"
            ]
          },
          "metadata": {},
          "execution_count": 4
        }
      ]
    },
    {
      "cell_type": "code",
      "source": [],
      "metadata": {
        "id": "SaL7xi7ENyrW"
      },
      "execution_count": null,
      "outputs": []
    },
    {
      "cell_type": "code",
      "source": [
        "#10개 중에서 10번째 (최소값) 값 확인 / index는 0부터 시작\n",
        "min_value = df['views'][:10].min()\n",
        "print(min_value)\n",
        "\n",
        "# min_value = df['views'].iloc[9]\n",
        "# print(min_value)\n",
        "# min_value = df['views'].head(10).min()\n",
        "# print(min_value)"
      ],
      "metadata": {
        "id": "9lfXyfAOHsOl",
        "colab": {
          "base_uri": "https://localhost:8080/"
        },
        "outputId": "d7e67d26-037f-4f90-916b-22715bdadfe8"
      },
      "execution_count": null,
      "outputs": [
        {
          "output_type": "stream",
          "name": "stdout",
          "text": [
            "9690.0\n",
            "9690.0\n",
            "9690.0\n"
          ]
        }
      ]
    },
    {
      "cell_type": "code",
      "source": [
        "#10개 중에서 10번째 (최소값) 값 대체\n",
        "df.iloc[:10,-1] = min_value"
      ],
      "metadata": {
        "id": "c18IFl6jDnUx"
      },
      "execution_count": null,
      "outputs": []
    },
    {
      "cell_type": "code",
      "source": [
        "# 대체된 데이터 확인\n",
        "df.head(12)"
      ],
      "metadata": {
        "colab": {
          "base_uri": "https://localhost:8080/",
          "height": 450
        },
        "id": "XrdgPOK6D_Lu",
        "outputId": "0b219f6f-7d47-4a83-ceb6-e1a706fcbdfd"
      },
      "execution_count": null,
      "outputs": [
        {
          "output_type": "execute_result",
          "data": {
            "text/html": [
              "<div>\n",
              "<style scoped>\n",
              "    .dataframe tbody tr th:only-of-type {\n",
              "        vertical-align: middle;\n",
              "    }\n",
              "\n",
              "    .dataframe tbody tr th {\n",
              "        vertical-align: top;\n",
              "    }\n",
              "\n",
              "    .dataframe thead th {\n",
              "        text-align: right;\n",
              "    }\n",
              "</style>\n",
              "<table border=\"1\" class=\"dataframe\">\n",
              "  <thead>\n",
              "    <tr style=\"text-align: right;\">\n",
              "      <th></th>\n",
              "      <th>id</th>\n",
              "      <th>age</th>\n",
              "      <th>city</th>\n",
              "      <th>f1</th>\n",
              "      <th>f2</th>\n",
              "      <th>f3</th>\n",
              "      <th>f4</th>\n",
              "      <th>f5</th>\n",
              "      <th>subscribed</th>\n",
              "      <th>views</th>\n",
              "    </tr>\n",
              "  </thead>\n",
              "  <tbody>\n",
              "    <tr>\n",
              "      <th>5</th>\n",
              "      <td>id06</td>\n",
              "      <td>22.0</td>\n",
              "      <td>서울</td>\n",
              "      <td>57.0</td>\n",
              "      <td>0</td>\n",
              "      <td>vip</td>\n",
              "      <td>INTP</td>\n",
              "      <td>20.129444</td>\n",
              "      <td>2021-09-12</td>\n",
              "      <td>9690.0</td>\n",
              "    </tr>\n",
              "    <tr>\n",
              "      <th>56</th>\n",
              "      <td>id56</td>\n",
              "      <td>59.0</td>\n",
              "      <td>대구</td>\n",
              "      <td>NaN</td>\n",
              "      <td>1</td>\n",
              "      <td>vip</td>\n",
              "      <td>ESTJ</td>\n",
              "      <td>73.586397</td>\n",
              "      <td>2021-04-05</td>\n",
              "      <td>9690.0</td>\n",
              "    </tr>\n",
              "    <tr>\n",
              "      <th>83</th>\n",
              "      <td>id83</td>\n",
              "      <td>73.0</td>\n",
              "      <td>경기</td>\n",
              "      <td>50.0</td>\n",
              "      <td>1</td>\n",
              "      <td>vip</td>\n",
              "      <td>ENTP</td>\n",
              "      <td>80.138280</td>\n",
              "      <td>2021-09-26</td>\n",
              "      <td>9690.0</td>\n",
              "    </tr>\n",
              "    <tr>\n",
              "      <th>32</th>\n",
              "      <td>id32</td>\n",
              "      <td>25.0</td>\n",
              "      <td>부산</td>\n",
              "      <td>64.0</td>\n",
              "      <td>0</td>\n",
              "      <td>vip</td>\n",
              "      <td>ISFJ</td>\n",
              "      <td>13.049921</td>\n",
              "      <td>2021-05-24</td>\n",
              "      <td>9690.0</td>\n",
              "    </tr>\n",
              "    <tr>\n",
              "      <th>10</th>\n",
              "      <td>id100</td>\n",
              "      <td>47.0</td>\n",
              "      <td>경기</td>\n",
              "      <td>53.0</td>\n",
              "      <td>0</td>\n",
              "      <td>vip</td>\n",
              "      <td>ESFP</td>\n",
              "      <td>33.308999</td>\n",
              "      <td>2021-02-21</td>\n",
              "      <td>9690.0</td>\n",
              "    </tr>\n",
              "    <tr>\n",
              "      <th>9</th>\n",
              "      <td>id10</td>\n",
              "      <td>95.0</td>\n",
              "      <td>서울</td>\n",
              "      <td>74.0</td>\n",
              "      <td>1</td>\n",
              "      <td>gold</td>\n",
              "      <td>ISFP</td>\n",
              "      <td>98.429899</td>\n",
              "      <td>2021-04-03</td>\n",
              "      <td>9690.0</td>\n",
              "    </tr>\n",
              "    <tr>\n",
              "      <th>49</th>\n",
              "      <td>id49</td>\n",
              "      <td>75.0</td>\n",
              "      <td>대구</td>\n",
              "      <td>88.0</td>\n",
              "      <td>0</td>\n",
              "      <td>gold</td>\n",
              "      <td>INTP</td>\n",
              "      <td>37.113739</td>\n",
              "      <td>2021-03-31</td>\n",
              "      <td>9690.0</td>\n",
              "    </tr>\n",
              "    <tr>\n",
              "      <th>36</th>\n",
              "      <td>id36</td>\n",
              "      <td>68.0</td>\n",
              "      <td>부산</td>\n",
              "      <td>77.0</td>\n",
              "      <td>1</td>\n",
              "      <td>gold</td>\n",
              "      <td>INTP</td>\n",
              "      <td>13.049921</td>\n",
              "      <td>2021-07-20</td>\n",
              "      <td>9690.0</td>\n",
              "    </tr>\n",
              "    <tr>\n",
              "      <th>46</th>\n",
              "      <td>id46</td>\n",
              "      <td>93.0</td>\n",
              "      <td>대구</td>\n",
              "      <td>NaN</td>\n",
              "      <td>0</td>\n",
              "      <td>gold</td>\n",
              "      <td>ESTJ</td>\n",
              "      <td>67.886373</td>\n",
              "      <td>2021-05-23</td>\n",
              "      <td>9690.0</td>\n",
              "    </tr>\n",
              "    <tr>\n",
              "      <th>21</th>\n",
              "      <td>id21</td>\n",
              "      <td>90.0</td>\n",
              "      <td>부산</td>\n",
              "      <td>NaN</td>\n",
              "      <td>1</td>\n",
              "      <td>gold</td>\n",
              "      <td>ISFP</td>\n",
              "      <td>29.269869</td>\n",
              "      <td>2021-05-03</td>\n",
              "      <td>9690.0</td>\n",
              "    </tr>\n",
              "    <tr>\n",
              "      <th>92</th>\n",
              "      <td>id92</td>\n",
              "      <td>97.0</td>\n",
              "      <td>경기</td>\n",
              "      <td>78.0</td>\n",
              "      <td>1</td>\n",
              "      <td>gold</td>\n",
              "      <td>INFP</td>\n",
              "      <td>97.381034</td>\n",
              "      <td>2021-05-08</td>\n",
              "      <td>9625.0</td>\n",
              "    </tr>\n",
              "    <tr>\n",
              "      <th>16</th>\n",
              "      <td>id16</td>\n",
              "      <td>68.0</td>\n",
              "      <td>서울</td>\n",
              "      <td>85.0</td>\n",
              "      <td>0</td>\n",
              "      <td>gold</td>\n",
              "      <td>ESFP</td>\n",
              "      <td>16.283854</td>\n",
              "      <td>2021-07-25</td>\n",
              "      <td>9472.0</td>\n",
              "    </tr>\n",
              "  </tbody>\n",
              "</table>\n",
              "</div>"
            ],
            "text/plain": [
              "       id   age city    f1  f2    f3    f4         f5  subscribed   views\n",
              "5    id06  22.0   서울  57.0   0   vip  INTP  20.129444  2021-09-12  9690.0\n",
              "56   id56  59.0   대구   NaN   1   vip  ESTJ  73.586397  2021-04-05  9690.0\n",
              "83   id83  73.0   경기  50.0   1   vip  ENTP  80.138280  2021-09-26  9690.0\n",
              "32   id32  25.0   부산  64.0   0   vip  ISFJ  13.049921  2021-05-24  9690.0\n",
              "10  id100  47.0   경기  53.0   0   vip  ESFP  33.308999  2021-02-21  9690.0\n",
              "9    id10  95.0   서울  74.0   1  gold  ISFP  98.429899  2021-04-03  9690.0\n",
              "49   id49  75.0   대구  88.0   0  gold  INTP  37.113739  2021-03-31  9690.0\n",
              "36   id36  68.0   부산  77.0   1  gold  INTP  13.049921  2021-07-20  9690.0\n",
              "46   id46  93.0   대구   NaN   0  gold  ESTJ  67.886373  2021-05-23  9690.0\n",
              "21   id21  90.0   부산   NaN   1  gold  ISFP  29.269869  2021-05-03  9690.0\n",
              "92   id92  97.0   경기  78.0   1  gold  INFP  97.381034  2021-05-08  9625.0\n",
              "16   id16  68.0   서울  85.0   0  gold  ESFP  16.283854  2021-07-25  9472.0"
            ]
          },
          "metadata": {},
          "execution_count": 7
        }
      ]
    },
    {
      "cell_type": "code",
      "source": [
        "# age가 80 이상의 views 컬럼 평균\n",
        "cond = df['age']>=80\n",
        "print(df[cond]['views'].mean())"
      ],
      "metadata": {
        "colab": {
          "base_uri": "https://localhost:8080/"
        },
        "id": "eumABvXEJnkh",
        "outputId": "d23a02b6-db78-43e6-f81b-53c86646a853"
      },
      "execution_count": null,
      "outputs": [
        {
          "output_type": "stream",
          "name": "stdout",
          "text": [
            "5674.04347826087\n"
          ]
        }
      ]
    },
    {
      "cell_type": "markdown",
      "source": [
        "## 문제2\n",
        "- 주어진 데이터셋(members.csv)의 앞에서부터 순서대로 80% 데이터만 활용해 'f1'컬럼 결측치를 중앙값으로 채우기 전 후의 표준편차를 구하고, 두 표준편차 차이 계산하기 \n",
        "(단, 표본표준편차 기준, 두 표준편차 차이는 절대값으로 계산)"
      ],
      "metadata": {
        "id": "cnkubHLYIvA_"
      }
    },
    {
      "cell_type": "markdown",
      "source": [
        "풀이 순서\n",
        "- 앞에서 부터 80% 데이터 뽑아오기 \n",
        "- f1 컬럼 표준편차 구하기\n",
        "- f1 컬럼 결측치, 중앙값 확인\n",
        "- f1 컬럼 결측값 중앙값으로 채우기\n",
        "- f1 컬럼 표준편차 구하기\n",
        "- 두 표준편차 차이 계산"
      ],
      "metadata": {
        "id": "smnJZwBtJ_4N"
      }
    },
    {
      "cell_type": "code",
      "source": [
        "# 앞에서 부터 80% 데이터 뽑아오기\n",
        "df = pd.read_csv(\"members.csv\")\n",
        "line = int(len(df) * 0.8)\n",
        "line\n",
        "df = df.iloc[:line] # 0~79\n",
        "df"
      ],
      "metadata": {
        "colab": {
          "base_uri": "https://localhost:8080/",
          "height": 448
        },
        "id": "umbbaTFdI41o",
        "outputId": "95f39e0c-53d1-4e67-97df-ad131e31114a"
      },
      "execution_count": null,
      "outputs": [
        {
          "output_type": "execute_result",
          "data": {
            "text/html": [
              "<div>\n",
              "<style scoped>\n",
              "    .dataframe tbody tr th:only-of-type {\n",
              "        vertical-align: middle;\n",
              "    }\n",
              "\n",
              "    .dataframe tbody tr th {\n",
              "        vertical-align: top;\n",
              "    }\n",
              "\n",
              "    .dataframe thead th {\n",
              "        text-align: right;\n",
              "    }\n",
              "</style>\n",
              "<table border=\"1\" class=\"dataframe\">\n",
              "  <thead>\n",
              "    <tr style=\"text-align: right;\">\n",
              "      <th></th>\n",
              "      <th>id</th>\n",
              "      <th>age</th>\n",
              "      <th>city</th>\n",
              "      <th>f1</th>\n",
              "      <th>f2</th>\n",
              "      <th>f3</th>\n",
              "      <th>f4</th>\n",
              "      <th>f5</th>\n",
              "      <th>subscribed</th>\n",
              "      <th>views</th>\n",
              "    </tr>\n",
              "  </thead>\n",
              "  <tbody>\n",
              "    <tr>\n",
              "      <th>0</th>\n",
              "      <td>id01</td>\n",
              "      <td>2.0</td>\n",
              "      <td>서울</td>\n",
              "      <td>NaN</td>\n",
              "      <td>0</td>\n",
              "      <td>gold</td>\n",
              "      <td>ENFJ</td>\n",
              "      <td>91.297791</td>\n",
              "      <td>2021-07-16</td>\n",
              "      <td>6820.0</td>\n",
              "    </tr>\n",
              "    <tr>\n",
              "      <th>1</th>\n",
              "      <td>id02</td>\n",
              "      <td>9.0</td>\n",
              "      <td>서울</td>\n",
              "      <td>70.0</td>\n",
              "      <td>1</td>\n",
              "      <td>NaN</td>\n",
              "      <td>ENFJ</td>\n",
              "      <td>60.339826</td>\n",
              "      <td>2021-05-12</td>\n",
              "      <td>2534.0</td>\n",
              "    </tr>\n",
              "    <tr>\n",
              "      <th>2</th>\n",
              "      <td>id03</td>\n",
              "      <td>27.0</td>\n",
              "      <td>서울</td>\n",
              "      <td>61.0</td>\n",
              "      <td>1</td>\n",
              "      <td>gold</td>\n",
              "      <td>ISTJ</td>\n",
              "      <td>17.252986</td>\n",
              "      <td>2021-03-16</td>\n",
              "      <td>7312.0</td>\n",
              "    </tr>\n",
              "    <tr>\n",
              "      <th>3</th>\n",
              "      <td>id04</td>\n",
              "      <td>75.0</td>\n",
              "      <td>서울</td>\n",
              "      <td>NaN</td>\n",
              "      <td>2</td>\n",
              "      <td>NaN</td>\n",
              "      <td>INFP</td>\n",
              "      <td>52.667078</td>\n",
              "      <td>2021-07-21</td>\n",
              "      <td>493.0</td>\n",
              "    </tr>\n",
              "    <tr>\n",
              "      <th>4</th>\n",
              "      <td>id05</td>\n",
              "      <td>24.0</td>\n",
              "      <td>서울</td>\n",
              "      <td>85.0</td>\n",
              "      <td>2</td>\n",
              "      <td>NaN</td>\n",
              "      <td>ISFJ</td>\n",
              "      <td>29.269869</td>\n",
              "      <td>2021-03-07</td>\n",
              "      <td>1338.0</td>\n",
              "    </tr>\n",
              "    <tr>\n",
              "      <th>...</th>\n",
              "      <td>...</td>\n",
              "      <td>...</td>\n",
              "      <td>...</td>\n",
              "      <td>...</td>\n",
              "      <td>...</td>\n",
              "      <td>...</td>\n",
              "      <td>...</td>\n",
              "      <td>...</td>\n",
              "      <td>...</td>\n",
              "      <td>...</td>\n",
              "    </tr>\n",
              "    <tr>\n",
              "      <th>75</th>\n",
              "      <td>id75</td>\n",
              "      <td>63.0</td>\n",
              "      <td>경기</td>\n",
              "      <td>47.0</td>\n",
              "      <td>0</td>\n",
              "      <td>gold</td>\n",
              "      <td>ESTP</td>\n",
              "      <td>20.129444</td>\n",
              "      <td>2021-06-12</td>\n",
              "      <td>6779.0</td>\n",
              "    </tr>\n",
              "    <tr>\n",
              "      <th>76</th>\n",
              "      <td>id76</td>\n",
              "      <td>71.0</td>\n",
              "      <td>경기</td>\n",
              "      <td>12.0</td>\n",
              "      <td>0</td>\n",
              "      <td>NaN</td>\n",
              "      <td>ENTJ</td>\n",
              "      <td>83.685380</td>\n",
              "      <td>2021-07-28</td>\n",
              "      <td>2872.0</td>\n",
              "    </tr>\n",
              "    <tr>\n",
              "      <th>77</th>\n",
              "      <td>id77</td>\n",
              "      <td>77.0</td>\n",
              "      <td>경기</td>\n",
              "      <td>31.0</td>\n",
              "      <td>0</td>\n",
              "      <td>NaN</td>\n",
              "      <td>INFP</td>\n",
              "      <td>98.429899</td>\n",
              "      <td>2021-01-16</td>\n",
              "      <td>1518.0</td>\n",
              "    </tr>\n",
              "    <tr>\n",
              "      <th>78</th>\n",
              "      <td>id78</td>\n",
              "      <td>92.0</td>\n",
              "      <td>경기</td>\n",
              "      <td>96.0</td>\n",
              "      <td>1</td>\n",
              "      <td>gold</td>\n",
              "      <td>INTJ</td>\n",
              "      <td>69.730313</td>\n",
              "      <td>2021-10-27</td>\n",
              "      <td>7565.0</td>\n",
              "    </tr>\n",
              "    <tr>\n",
              "      <th>79</th>\n",
              "      <td>id79</td>\n",
              "      <td>30.0</td>\n",
              "      <td>경기</td>\n",
              "      <td>NaN</td>\n",
              "      <td>0</td>\n",
              "      <td>gold</td>\n",
              "      <td>INTJ</td>\n",
              "      <td>80.138280</td>\n",
              "      <td>2021-08-14</td>\n",
              "      <td>8777.0</td>\n",
              "    </tr>\n",
              "  </tbody>\n",
              "</table>\n",
              "<p>80 rows × 10 columns</p>\n",
              "</div>"
            ],
            "text/plain": [
              "      id   age city    f1  f2    f3    f4         f5  subscribed   views\n",
              "0   id01   2.0   서울   NaN   0  gold  ENFJ  91.297791  2021-07-16  6820.0\n",
              "1   id02   9.0   서울  70.0   1   NaN  ENFJ  60.339826  2021-05-12  2534.0\n",
              "2   id03  27.0   서울  61.0   1  gold  ISTJ  17.252986  2021-03-16  7312.0\n",
              "3   id04  75.0   서울   NaN   2   NaN  INFP  52.667078  2021-07-21   493.0\n",
              "4   id05  24.0   서울  85.0   2   NaN  ISFJ  29.269869  2021-03-07  1338.0\n",
              "..   ...   ...  ...   ...  ..   ...   ...        ...         ...     ...\n",
              "75  id75  63.0   경기  47.0   0  gold  ESTP  20.129444  2021-06-12  6779.0\n",
              "76  id76  71.0   경기  12.0   0   NaN  ENTJ  83.685380  2021-07-28  2872.0\n",
              "77  id77  77.0   경기  31.0   0   NaN  INFP  98.429899  2021-01-16  1518.0\n",
              "78  id78  92.0   경기  96.0   1  gold  INTJ  69.730313  2021-10-27  7565.0\n",
              "79  id79  30.0   경기   NaN   0  gold  INTJ  80.138280  2021-08-14  8777.0\n",
              "\n",
              "[80 rows x 10 columns]"
            ]
          },
          "metadata": {},
          "execution_count": 12
        }
      ]
    },
    {
      "cell_type": "code",
      "source": [
        "## 결측치 채우기 전 f1컬럼 표준편자\n",
        "std1 = df['f1'].std()\n",
        "std1"
      ],
      "metadata": {
        "colab": {
          "base_uri": "https://localhost:8080/"
        },
        "id": "pJ9C1pDEI8ZP",
        "outputId": "92f0fd46-802b-47e0-a41d-5355fe55de95"
      },
      "execution_count": null,
      "outputs": [
        {
          "output_type": "execute_result",
          "data": {
            "text/plain": [
              "20.574853076621935"
            ]
          },
          "metadata": {},
          "execution_count": 13
        }
      ]
    },
    {
      "cell_type": "code",
      "source": [
        "## 결측치 확인\n",
        "df.isnull().sum()"
      ],
      "metadata": {
        "colab": {
          "base_uri": "https://localhost:8080/"
        },
        "id": "-5Jq5P7nI8bS",
        "outputId": "ef6e15cc-823a-407e-cb64-36bc6655e02f"
      },
      "execution_count": null,
      "outputs": [
        {
          "output_type": "execute_result",
          "data": {
            "text/plain": [
              "id             0\n",
              "age            0\n",
              "city           0\n",
              "f1            25\n",
              "f2             0\n",
              "f3            22\n",
              "f4             0\n",
              "f5             0\n",
              "subscribed     0\n",
              "views          3\n",
              "dtype: int64"
            ]
          },
          "metadata": {},
          "execution_count": 14
        }
      ]
    },
    {
      "cell_type": "code",
      "source": [
        "## 중앙값 확인\n",
        "med=df['f1'].median()\n",
        "med"
      ],
      "metadata": {
        "colab": {
          "base_uri": "https://localhost:8080/"
        },
        "id": "BQc8qdESNjd0",
        "outputId": "7721acc3-7dab-4888-b40e-1e210d0e28e3"
      },
      "execution_count": null,
      "outputs": [
        {
          "output_type": "execute_result",
          "data": {
            "text/plain": [
              "68.0"
            ]
          },
          "metadata": {},
          "execution_count": 15
        }
      ]
    },
    {
      "cell_type": "code",
      "source": [
        "## 중앙값으로 채우기\n",
        "df['f1'] = df['f1'].fillna(med)"
      ],
      "metadata": {
        "id": "war-o-t_Njj6"
      },
      "execution_count": null,
      "outputs": []
    },
    {
      "cell_type": "code",
      "source": [
        "## 결측치 확인\n",
        "df.isnull().sum()"
      ],
      "metadata": {
        "colab": {
          "base_uri": "https://localhost:8080/"
        },
        "id": "cNDknADENjmW",
        "outputId": "c9d20b94-b92e-4106-bb94-894f30fc925c"
      },
      "execution_count": null,
      "outputs": [
        {
          "output_type": "execute_result",
          "data": {
            "text/plain": [
              "id             0\n",
              "age            0\n",
              "city           0\n",
              "f1             0\n",
              "f2             0\n",
              "f3            22\n",
              "f4             0\n",
              "f5             0\n",
              "subscribed     0\n",
              "views          3\n",
              "dtype: int64"
            ]
          },
          "metadata": {},
          "execution_count": 17
        }
      ]
    },
    {
      "cell_type": "code",
      "source": [
        "## 결측치를 채운 후 표준편차 구하기\n",
        "std2 = df['f1'].std()\n",
        "std2"
      ],
      "metadata": {
        "colab": {
          "base_uri": "https://localhost:8080/"
        },
        "id": "TKsUeNScNjo3",
        "outputId": "0c20a031-0b85-4a09-b9cc-ddbe5f302438"
      },
      "execution_count": null,
      "outputs": [
        {
          "output_type": "execute_result",
          "data": {
            "text/plain": [
              "17.010788646613275"
            ]
          },
          "metadata": {},
          "execution_count": 18
        }
      ]
    },
    {
      "cell_type": "code",
      "source": [
        "# 두 표준편차 차이 계산 \n",
        "print(abs(std1-std2))"
      ],
      "metadata": {
        "colab": {
          "base_uri": "https://localhost:8080/"
        },
        "id": "6g1d56NXNjrP",
        "outputId": "daeeb80b-129c-46b9-e3b9-71c8f85ebb8a"
      },
      "execution_count": null,
      "outputs": [
        {
          "output_type": "stream",
          "name": "stdout",
          "text": [
            "3.56406443000866\n"
          ]
        }
      ]
    },
    {
      "cell_type": "markdown",
      "source": [
        "### 심화학습 \n",
        "- 모 표준편차(넘파이) vs 표본 표준편차(판다스)"
      ],
      "metadata": {
        "id": "4c3vt7YTLfKd"
      }
    },
    {
      "cell_type": "code",
      "source": [
        "import numpy as np\n",
        "print(df['f1'].std())\n",
        "# print(np.std(df['f1']))"
      ],
      "metadata": {
        "colab": {
          "base_uri": "https://localhost:8080/"
        },
        "id": "oFEdJTxHMCcf",
        "outputId": "6a3eeff4-4929-4988-f065-f7156a201feb"
      },
      "execution_count": null,
      "outputs": [
        {
          "output_type": "stream",
          "name": "stdout",
          "text": [
            "17.010788646613275\n"
          ]
        }
      ]
    },
    {
      "cell_type": "code",
      "source": [],
      "metadata": {
        "id": "qGKvD9C3MCfk"
      },
      "execution_count": null,
      "outputs": []
    },
    {
      "cell_type": "markdown",
      "source": [
        "## 문제3\n",
        "- 주어진 데이터셋(members.csv)의 'age'컬럼의 이상치를 모두 더하시오!\n",
        "- 단, 평균으로부터 '표준편차*1.5'를 벗어나는 영역을 이상치라고 판단함"
      ],
      "metadata": {
        "id": "JdpTHqpTI8hO"
      }
    },
    {
      "cell_type": "markdown",
      "source": [
        "풀이 순서\n",
        "- 표준편차, 평균값 구하기\n",
        "- 이상치 최저, 최고 기준 구하기\n",
        "- 이상치를 벗어나는 값(조건) 찾아 더하기"
      ],
      "metadata": {
        "id": "dgXZ9aHna27R"
      }
    },
    {
      "cell_type": "code",
      "source": [
        "# 표준편차, 평균값 구하기\n",
        "df = pd.read_csv(\"members.csv\")\n",
        "\n",
        "std = df['age'].std() * 1.5\n",
        "mean = df['age'].mean()\n",
        "\n",
        "print(\"표준편차 * 1.5 : \", std)\n",
        "print(\"평균 : \", mean)"
      ],
      "metadata": {
        "colab": {
          "base_uri": "https://localhost:8080/"
        },
        "id": "hXxCFs7wJW-F",
        "outputId": "2047c6ce-99bd-425d-a63b-97a7a246905e"
      },
      "execution_count": null,
      "outputs": [
        {
          "output_type": "stream",
          "name": "stdout",
          "text": [
            "표준편차 * 1.5 :  45.66413778388305\n",
            "평균 :  50.963\n"
          ]
        }
      ]
    },
    {
      "cell_type": "code",
      "source": [
        "# 이상치 최저, 최고 기준 구하기\n",
        "lower = mean - std\n",
        "upper = mean + std\n",
        "\n",
        "print(\"이상치 최저 기준 : \", lower)\n",
        "print(\"이상치 최고 기준 : \", upper)"
      ],
      "metadata": {
        "colab": {
          "base_uri": "https://localhost:8080/"
        },
        "id": "uT05xckqYuzc",
        "outputId": "f3af77aa-70c8-4887-fb08-74055ad406ed"
      },
      "execution_count": null,
      "outputs": [
        {
          "output_type": "stream",
          "name": "stdout",
          "text": [
            "이상치 최저 기준 :  5.298862216116952\n",
            "이상치 최고 기준 :  96.62713778388306\n"
          ]
        }
      ]
    },
    {
      "cell_type": "code",
      "source": [
        "# 이상치를 벗어나는 값(조건) 찾기\n",
        "\n",
        "cond1 = df['age'] < lower\n",
        "cond2 = df['age'] > upper\n",
        "\n",
        "df[cond1]"
      ],
      "metadata": {
        "colab": {
          "base_uri": "https://localhost:8080/",
          "height": 355
        },
        "id": "0n-ZA4rgZO6k",
        "outputId": "44eff211-e84d-428b-cda3-ed8a8ad53dfb"
      },
      "execution_count": null,
      "outputs": [
        {
          "output_type": "execute_result",
          "data": {
            "text/html": [
              "<div>\n",
              "<style scoped>\n",
              "    .dataframe tbody tr th:only-of-type {\n",
              "        vertical-align: middle;\n",
              "    }\n",
              "\n",
              "    .dataframe tbody tr th {\n",
              "        vertical-align: top;\n",
              "    }\n",
              "\n",
              "    .dataframe thead th {\n",
              "        text-align: right;\n",
              "    }\n",
              "</style>\n",
              "<table border=\"1\" class=\"dataframe\">\n",
              "  <thead>\n",
              "    <tr style=\"text-align: right;\">\n",
              "      <th></th>\n",
              "      <th>id</th>\n",
              "      <th>age</th>\n",
              "      <th>city</th>\n",
              "      <th>f1</th>\n",
              "      <th>f2</th>\n",
              "      <th>f3</th>\n",
              "      <th>f4</th>\n",
              "      <th>f5</th>\n",
              "      <th>subscribed</th>\n",
              "      <th>views</th>\n",
              "    </tr>\n",
              "  </thead>\n",
              "  <tbody>\n",
              "    <tr>\n",
              "      <th>0</th>\n",
              "      <td>id01</td>\n",
              "      <td>2.0</td>\n",
              "      <td>서울</td>\n",
              "      <td>NaN</td>\n",
              "      <td>0</td>\n",
              "      <td>gold</td>\n",
              "      <td>ENFJ</td>\n",
              "      <td>91.297791</td>\n",
              "      <td>2021-07-16</td>\n",
              "      <td>6820.0</td>\n",
              "    </tr>\n",
              "    <tr>\n",
              "      <th>8</th>\n",
              "      <td>id09</td>\n",
              "      <td>3.3</td>\n",
              "      <td>서울</td>\n",
              "      <td>35.0</td>\n",
              "      <td>2</td>\n",
              "      <td>NaN</td>\n",
              "      <td>ESFJ</td>\n",
              "      <td>17.252986</td>\n",
              "      <td>2021-03-21</td>\n",
              "      <td>2764.0</td>\n",
              "    </tr>\n",
              "    <tr>\n",
              "      <th>22</th>\n",
              "      <td>id22</td>\n",
              "      <td>-6.3</td>\n",
              "      <td>부산</td>\n",
              "      <td>72.0</td>\n",
              "      <td>1</td>\n",
              "      <td>gold</td>\n",
              "      <td>ENFP</td>\n",
              "      <td>52.667078</td>\n",
              "      <td>2021-02-09</td>\n",
              "      <td>6147.0</td>\n",
              "    </tr>\n",
              "    <tr>\n",
              "      <th>29</th>\n",
              "      <td>id29</td>\n",
              "      <td>-13.5</td>\n",
              "      <td>부산</td>\n",
              "      <td>47.0</td>\n",
              "      <td>2</td>\n",
              "      <td>gold</td>\n",
              "      <td>ENTP</td>\n",
              "      <td>67.886373</td>\n",
              "      <td>2021-08-28</td>\n",
              "      <td>6793.0</td>\n",
              "    </tr>\n",
              "    <tr>\n",
              "      <th>57</th>\n",
              "      <td>id57</td>\n",
              "      <td>3.0</td>\n",
              "      <td>대구</td>\n",
              "      <td>111.0</td>\n",
              "      <td>0</td>\n",
              "      <td>silver</td>\n",
              "      <td>ISFJ</td>\n",
              "      <td>29.269869</td>\n",
              "      <td>2021-01-12</td>\n",
              "      <td>4421.0</td>\n",
              "    </tr>\n",
              "    <tr>\n",
              "      <th>58</th>\n",
              "      <td>id58</td>\n",
              "      <td>0.0</td>\n",
              "      <td>대구</td>\n",
              "      <td>100.0</td>\n",
              "      <td>2</td>\n",
              "      <td>NaN</td>\n",
              "      <td>ESTP</td>\n",
              "      <td>33.308999</td>\n",
              "      <td>2021-04-18</td>\n",
              "      <td>1928.0</td>\n",
              "    </tr>\n",
              "    <tr>\n",
              "      <th>70</th>\n",
              "      <td>id70</td>\n",
              "      <td>-9.0</td>\n",
              "      <td>경기</td>\n",
              "      <td>96.0</td>\n",
              "      <td>1</td>\n",
              "      <td>silver</td>\n",
              "      <td>ISTP</td>\n",
              "      <td>48.431184</td>\n",
              "      <td>2021-11-17</td>\n",
              "      <td>4442.0</td>\n",
              "    </tr>\n",
              "    <tr>\n",
              "      <th>86</th>\n",
              "      <td>id86</td>\n",
              "      <td>2.0</td>\n",
              "      <td>경기</td>\n",
              "      <td>NaN</td>\n",
              "      <td>0</td>\n",
              "      <td>NaN</td>\n",
              "      <td>ESTP</td>\n",
              "      <td>29.269869</td>\n",
              "      <td>2021-02-16</td>\n",
              "      <td>2155.0</td>\n",
              "    </tr>\n",
              "    <tr>\n",
              "      <th>99</th>\n",
              "      <td>id99</td>\n",
              "      <td>1.0</td>\n",
              "      <td>경기</td>\n",
              "      <td>47.0</td>\n",
              "      <td>0</td>\n",
              "      <td>gold</td>\n",
              "      <td>ESFJ</td>\n",
              "      <td>97.381034</td>\n",
              "      <td>2021-12-02</td>\n",
              "      <td>6090.0</td>\n",
              "    </tr>\n",
              "  </tbody>\n",
              "</table>\n",
              "</div>"
            ],
            "text/plain": [
              "      id   age city     f1  f2      f3    f4         f5  subscribed   views\n",
              "0   id01   2.0   서울    NaN   0    gold  ENFJ  91.297791  2021-07-16  6820.0\n",
              "8   id09   3.3   서울   35.0   2     NaN  ESFJ  17.252986  2021-03-21  2764.0\n",
              "22  id22  -6.3   부산   72.0   1    gold  ENFP  52.667078  2021-02-09  6147.0\n",
              "29  id29 -13.5   부산   47.0   2    gold  ENTP  67.886373  2021-08-28  6793.0\n",
              "57  id57   3.0   대구  111.0   0  silver  ISFJ  29.269869  2021-01-12  4421.0\n",
              "58  id58   0.0   대구  100.0   2     NaN  ESTP  33.308999  2021-04-18  1928.0\n",
              "70  id70  -9.0   경기   96.0   1  silver  ISTP  48.431184  2021-11-17  4442.0\n",
              "86  id86   2.0   경기    NaN   0     NaN  ESTP  29.269869  2021-02-16  2155.0\n",
              "99  id99   1.0   경기   47.0   0    gold  ESFJ  97.381034  2021-12-02  6090.0"
            ]
          },
          "metadata": {},
          "execution_count": 31
        }
      ]
    },
    {
      "cell_type": "code",
      "source": [
        "df[cond2]"
      ],
      "metadata": {
        "colab": {
          "base_uri": "https://localhost:8080/",
          "height": 228
        },
        "id": "SJmHKezAUHsm",
        "outputId": "25663595-500a-4ace-edc3-a1dc4fbd0612"
      },
      "execution_count": null,
      "outputs": [
        {
          "output_type": "execute_result",
          "data": {
            "text/html": [
              "<div>\n",
              "<style scoped>\n",
              "    .dataframe tbody tr th:only-of-type {\n",
              "        vertical-align: middle;\n",
              "    }\n",
              "\n",
              "    .dataframe tbody tr th {\n",
              "        vertical-align: top;\n",
              "    }\n",
              "\n",
              "    .dataframe thead th {\n",
              "        text-align: right;\n",
              "    }\n",
              "</style>\n",
              "<table border=\"1\" class=\"dataframe\">\n",
              "  <thead>\n",
              "    <tr style=\"text-align: right;\">\n",
              "      <th></th>\n",
              "      <th>id</th>\n",
              "      <th>age</th>\n",
              "      <th>city</th>\n",
              "      <th>f1</th>\n",
              "      <th>f2</th>\n",
              "      <th>f3</th>\n",
              "      <th>f4</th>\n",
              "      <th>f5</th>\n",
              "      <th>subscribed</th>\n",
              "      <th>views</th>\n",
              "    </tr>\n",
              "  </thead>\n",
              "  <tbody>\n",
              "    <tr>\n",
              "      <th>37</th>\n",
              "      <td>id37</td>\n",
              "      <td>100.0</td>\n",
              "      <td>부산</td>\n",
              "      <td>NaN</td>\n",
              "      <td>0</td>\n",
              "      <td>silver</td>\n",
              "      <td>ESTP</td>\n",
              "      <td>33.308999</td>\n",
              "      <td>2021-07-08</td>\n",
              "      <td>4068.0</td>\n",
              "    </tr>\n",
              "    <tr>\n",
              "      <th>45</th>\n",
              "      <td>id45</td>\n",
              "      <td>97.0</td>\n",
              "      <td>대구</td>\n",
              "      <td>88.0</td>\n",
              "      <td>0</td>\n",
              "      <td>gold</td>\n",
              "      <td>ENFJ</td>\n",
              "      <td>13.049921</td>\n",
              "      <td>2021-06-21</td>\n",
              "      <td>8317.0</td>\n",
              "    </tr>\n",
              "    <tr>\n",
              "      <th>52</th>\n",
              "      <td>id52</td>\n",
              "      <td>97.0</td>\n",
              "      <td>대구</td>\n",
              "      <td>82.0</td>\n",
              "      <td>1</td>\n",
              "      <td>gold</td>\n",
              "      <td>ISFJ</td>\n",
              "      <td>90.496999</td>\n",
              "      <td>2021-05-20</td>\n",
              "      <td>8518.0</td>\n",
              "    </tr>\n",
              "    <tr>\n",
              "      <th>92</th>\n",
              "      <td>id92</td>\n",
              "      <td>97.0</td>\n",
              "      <td>경기</td>\n",
              "      <td>78.0</td>\n",
              "      <td>1</td>\n",
              "      <td>gold</td>\n",
              "      <td>INFP</td>\n",
              "      <td>97.381034</td>\n",
              "      <td>2021-05-08</td>\n",
              "      <td>9625.0</td>\n",
              "    </tr>\n",
              "    <tr>\n",
              "      <th>97</th>\n",
              "      <td>id97</td>\n",
              "      <td>100.0</td>\n",
              "      <td>경기</td>\n",
              "      <td>NaN</td>\n",
              "      <td>0</td>\n",
              "      <td>gold</td>\n",
              "      <td>INFP</td>\n",
              "      <td>67.886373</td>\n",
              "      <td>2021-03-18</td>\n",
              "      <td>6687.0</td>\n",
              "    </tr>\n",
              "  </tbody>\n",
              "</table>\n",
              "</div>"
            ],
            "text/plain": [
              "      id    age city    f1  f2      f3    f4         f5  subscribed   views\n",
              "37  id37  100.0   부산   NaN   0  silver  ESTP  33.308999  2021-07-08  4068.0\n",
              "45  id45   97.0   대구  88.0   0    gold  ENFJ  13.049921  2021-06-21  8317.0\n",
              "52  id52   97.0   대구  82.0   1    gold  ISFJ  90.496999  2021-05-20  8518.0\n",
              "92  id92   97.0   경기  78.0   1    gold  INFP  97.381034  2021-05-08  9625.0\n",
              "97  id97  100.0   경기   NaN   0    gold  INFP  67.886373  2021-03-18  6687.0"
            ]
          },
          "metadata": {},
          "execution_count": 32
        }
      ]
    },
    {
      "cell_type": "code",
      "source": [
        "# 이상치 age합\n",
        "print(df[(cond1)|(cond2)]['age'].sum())"
      ],
      "metadata": {
        "colab": {
          "base_uri": "https://localhost:8080/"
        },
        "id": "Ud1K7J7CToIK",
        "outputId": "624590f1-2bfc-499d-eb05-5fd8f9eff870"
      },
      "execution_count": null,
      "outputs": [
        {
          "output_type": "stream",
          "name": "stdout",
          "text": [
            "473.5\n"
          ]
        }
      ]
    },
    {
      "cell_type": "code",
      "source": [],
      "metadata": {
        "id": "NeLgEyNoURav"
      },
      "execution_count": null,
      "outputs": []
    }
  ]
}